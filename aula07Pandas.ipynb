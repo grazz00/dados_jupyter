{
  "nbformat": 4,
  "nbformat_minor": 0,
  "metadata": {
    "colab": {
      "provenance": []
    },
    "kernelspec": {
      "name": "python3",
      "display_name": "Python 3"
    },
    "language_info": {
      "name": "python"
    }
  },
  "cells": [
    {
      "cell_type": "markdown",
      "source": [
        "Importando o pandas"
      ],
      "metadata": {
        "id": "-FcZNIyt7Zj5"
      }
    },
    {
      "cell_type": "code",
      "source": [
        "import pandas as pd\n",
        "import string as st"
      ],
      "metadata": {
        "id": "x1MnYsDUvIV7"
      },
      "execution_count": 72,
      "outputs": []
    },
    {
      "cell_type": "markdown",
      "source": [
        "Trabalhando com series"
      ],
      "metadata": {
        "id": "IKpmH4em7R4y"
      }
    },
    {
      "cell_type": "code",
      "source": [
        "lista = [4, 5, 6, 8, 10]"
      ],
      "metadata": {
        "id": "HZoPziIJ91Tf"
      },
      "execution_count": 41,
      "outputs": []
    },
    {
      "cell_type": "code",
      "source": [
        "serieA = pd.Series(lista)"
      ],
      "metadata": {
        "id": "RNfd630F7chB"
      },
      "execution_count": 16,
      "outputs": []
    },
    {
      "cell_type": "code",
      "source": [
        "serieA"
      ],
      "metadata": {
        "colab": {
          "base_uri": "https://localhost:8080/"
        },
        "id": "_3Ctoh-37srB",
        "outputId": "fb90c73a-03de-4c9c-8a87-0fca0e32e1ac"
      },
      "execution_count": 17,
      "outputs": [
        {
          "output_type": "execute_result",
          "data": {
            "text/plain": [
              "0    4\n",
              "1    5\n",
              "2    6\n",
              "3    8\n",
              "dtype: int64"
            ]
          },
          "metadata": {},
          "execution_count": 17
        }
      ]
    },
    {
      "cell_type": "code",
      "source": [
        "serieA = pd.Series(lista, index= ['a', 'b', 'c', 'd'])"
      ],
      "metadata": {
        "id": "dq3XbUii-XmE"
      },
      "execution_count": 23,
      "outputs": []
    },
    {
      "cell_type": "code",
      "source": [
        "serieA"
      ],
      "metadata": {
        "colab": {
          "base_uri": "https://localhost:8080/"
        },
        "id": "06sSukyz-nqq",
        "outputId": "5772c3d4-1c13-4c2b-e3a6-de893d1d33f6"
      },
      "execution_count": 21,
      "outputs": [
        {
          "output_type": "execute_result",
          "data": {
            "text/plain": [
              "a    4\n",
              "b    5\n",
              "c    6\n",
              "d    8\n",
              "dtype: int64"
            ]
          },
          "metadata": {},
          "execution_count": 21
        }
      ]
    },
    {
      "cell_type": "code",
      "source": [
        "lista"
      ],
      "metadata": {
        "colab": {
          "base_uri": "https://localhost:8080/"
        },
        "id": "V8339k5BAwlm",
        "outputId": "fcc54e36-cc2a-42aa-8346-6ccf7ab24203"
      },
      "execution_count": 42,
      "outputs": [
        {
          "output_type": "execute_result",
          "data": {
            "text/plain": [
              "[4, 5, 6, 8, 10]"
            ]
          },
          "metadata": {},
          "execution_count": 42
        }
      ]
    },
    {
      "cell_type": "code",
      "source": [
        "num = 0\n",
        "listaIndex = []\n",
        "for i in lista:\n",
        "  num = num + 1\n",
        "  listaIndex.append(f'a{num}')"
      ],
      "metadata": {
        "id": "P0UnlsK6BUM-"
      },
      "execution_count": 43,
      "outputs": []
    },
    {
      "cell_type": "code",
      "source": [
        "listaIndex"
      ],
      "metadata": {
        "colab": {
          "base_uri": "https://localhost:8080/"
        },
        "id": "GQcKlf7tCI8a",
        "outputId": "91cfc41c-b54d-4917-c914-097a918ada80"
      },
      "execution_count": 49,
      "outputs": [
        {
          "output_type": "execute_result",
          "data": {
            "text/plain": [
              "['a1', 'a2', 'a3', 'a4', 'a5']"
            ]
          },
          "metadata": {},
          "execution_count": 49
        }
      ]
    },
    {
      "cell_type": "code",
      "source": [
        "serieA = pd.Series(lista, index=listaIndex)"
      ],
      "metadata": {
        "id": "hHpnMo2GEZNz"
      },
      "execution_count": 53,
      "outputs": []
    },
    {
      "cell_type": "code",
      "source": [
        "serieA"
      ],
      "metadata": {
        "colab": {
          "base_uri": "https://localhost:8080/"
        },
        "id": "M_S-1HHKEixb",
        "outputId": "05112be3-3af5-4a7f-f9ab-890fbee8403a"
      },
      "execution_count": 54,
      "outputs": [
        {
          "output_type": "execute_result",
          "data": {
            "text/plain": [
              "a1     4\n",
              "a2     5\n",
              "a3     6\n",
              "a4     8\n",
              "a5    10\n",
              "dtype: int64"
            ]
          },
          "metadata": {},
          "execution_count": 54
        }
      ]
    },
    {
      "cell_type": "code",
      "source": [
        "alfabeto = list(st.ascii_lowercase)"
      ],
      "metadata": {
        "id": "KcXtrfPwHwpZ"
      },
      "execution_count": 91,
      "outputs": []
    },
    {
      "cell_type": "code",
      "source": [
        "for i in range(len(lista)):\n",
        "  nova_letra = f'{alfabeto[i]}1'\n",
        "  alfabeto.append(nova_letra)\n",
        "\n",
        "print(alfabeto)"
      ],
      "metadata": {
        "colab": {
          "base_uri": "https://localhost:8080/"
        },
        "id": "72pYjot4IW4A",
        "outputId": "c055ed86-7c30-4297-c58f-6e3f233f2988"
      },
      "execution_count": 92,
      "outputs": [
        {
          "output_type": "stream",
          "name": "stdout",
          "text": [
            "['a', 'b', 'c', 'd', 'e', 'f', 'g', 'h', 'i', 'j', 'k', 'l', 'm', 'n', 'o', 'p', 'q', 'r', 's', 't', 'u', 'v', 'w', 'x', 'y', 'z', 'a1', 'b1', 'c1', 'd1', 'e1']\n"
          ]
        }
      ]
    },
    {
      "cell_type": "code",
      "source": [
        "indiceAlfabeto = []\n",
        "for i in range(len(lista)):\n",
        "  indiceAlfabeto.append(alfabeto[i])\n",
        "\n",
        "indiceAlfabeto"
      ],
      "metadata": {
        "colab": {
          "base_uri": "https://localhost:8080/"
        },
        "id": "vqJwRXp9J21b",
        "outputId": "bf2e1316-e6f4-46ae-ec56-dfa3bb94c6c5"
      },
      "execution_count": 94,
      "outputs": [
        {
          "output_type": "execute_result",
          "data": {
            "text/plain": [
              "['a', 'b', 'c', 'd', 'e']"
            ]
          },
          "metadata": {},
          "execution_count": 94
        }
      ]
    },
    {
      "cell_type": "code",
      "source": [
        "serieA = pd.Series(lista, index= indiceAlfabeto)"
      ],
      "metadata": {
        "id": "8-MySh-hOCD5"
      },
      "execution_count": 95,
      "outputs": []
    },
    {
      "cell_type": "code",
      "source": [
        "serieA"
      ],
      "metadata": {
        "colab": {
          "base_uri": "https://localhost:8080/"
        },
        "id": "ub8UBRVHOI0C",
        "outputId": "9feb0233-2bba-469f-a746-eed62b35195e"
      },
      "execution_count": 96,
      "outputs": [
        {
          "output_type": "execute_result",
          "data": {
            "text/plain": [
              "a     4\n",
              "b     5\n",
              "c     6\n",
              "d     8\n",
              "e    10\n",
              "dtype: int64"
            ]
          },
          "metadata": {},
          "execution_count": 96
        }
      ]
    }
  ]
}