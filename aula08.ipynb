{
 "cells": [
  {
   "cell_type": "code",
   "execution_count": 1,
   "id": "0fcb9e4d-9443-42ea-a244-69483830aa25",
   "metadata": {},
   "outputs": [],
   "source": [
    "import pandas as pd "
   ]
  },
  {
   "cell_type": "code",
   "execution_count": 11,
   "id": "986281f8-626f-4dd5-84c1-f4579b5db7c5",
   "metadata": {},
   "outputs": [],
   "source": [
    "musicas = [\n",
    "    [\"radioactive\", \"imagine dragons\", 2012],\n",
    "    [\"goodvibrations\", \"the beach boys\", 1966],\n",
    "    [\"a day in the life\", \"the beatles\", 1967],\n",
    "    [\"message in a bottle\", \"the police\", 1979]\n",
    "]"
   ]
  },
  {
   "cell_type": "code",
   "execution_count": 10,
   "id": "5fc901a0-2a5d-4b76-a474-6cc463f19e1f",
   "metadata": {},
   "outputs": [],
   "source": [
    "titulos = [\"nome\", \"banda\", \"lançamento\"]"
   ]
  },
  {
   "cell_type": "code",
   "execution_count": 12,
   "id": "5e528d26-8ba2-40b1-9b40-d8bd5e068a0e",
   "metadata": {},
   "outputs": [],
   "source": [
    "df = pd.DataFrame(musicas, columns=titulos)"
   ]
  },
  {
   "cell_type": "code",
   "execution_count": 13,
   "id": "47a99024-cc63-4a90-8f5b-01788b6fd2c9",
   "metadata": {},
   "outputs": [
    {
     "name": "stdout",
     "output_type": "stream",
     "text": [
      "                  nome            banda  lançamento\n",
      "0          radioactive  imagine dragons        2012\n",
      "1       goodvibrations   the beach boys        1966\n",
      "2    a day in the life      the beatles        1967\n",
      "3  message in a bottle       the police        1979\n"
     ]
    }
   ],
   "source": [
    "print(df)"
   ]
  },
  {
   "cell_type": "code",
   "execution_count": 14,
   "id": "ed3d4693-5d8a-4bfc-91d9-a0a8270c270c",
   "metadata": {},
   "outputs": [
    {
     "data": {
      "text/html": [
       "<div>\n",
       "<style scoped>\n",
       "    .dataframe tbody tr th:only-of-type {\n",
       "        vertical-align: middle;\n",
       "    }\n",
       "\n",
       "    .dataframe tbody tr th {\n",
       "        vertical-align: top;\n",
       "    }\n",
       "\n",
       "    .dataframe thead th {\n",
       "        text-align: right;\n",
       "    }\n",
       "</style>\n",
       "<table border=\"1\" class=\"dataframe\">\n",
       "  <thead>\n",
       "    <tr style=\"text-align: right;\">\n",
       "      <th></th>\n",
       "      <th>nome</th>\n",
       "      <th>banda</th>\n",
       "      <th>lançamento</th>\n",
       "    </tr>\n",
       "  </thead>\n",
       "  <tbody>\n",
       "    <tr>\n",
       "      <th>0</th>\n",
       "      <td>radioactive</td>\n",
       "      <td>imagine dragons</td>\n",
       "      <td>2012</td>\n",
       "    </tr>\n",
       "    <tr>\n",
       "      <th>1</th>\n",
       "      <td>goodvibrations</td>\n",
       "      <td>the beach boys</td>\n",
       "      <td>1966</td>\n",
       "    </tr>\n",
       "    <tr>\n",
       "      <th>2</th>\n",
       "      <td>a day in the life</td>\n",
       "      <td>the beatles</td>\n",
       "      <td>1967</td>\n",
       "    </tr>\n",
       "    <tr>\n",
       "      <th>3</th>\n",
       "      <td>message in a bottle</td>\n",
       "      <td>the police</td>\n",
       "      <td>1979</td>\n",
       "    </tr>\n",
       "  </tbody>\n",
       "</table>\n",
       "</div>"
      ],
      "text/plain": [
       "                  nome            banda  lançamento\n",
       "0          radioactive  imagine dragons        2012\n",
       "1       goodvibrations   the beach boys        1966\n",
       "2    a day in the life      the beatles        1967\n",
       "3  message in a bottle       the police        1979"
      ]
     },
     "execution_count": 14,
     "metadata": {},
     "output_type": "execute_result"
    }
   ],
   "source": [
    "df"
   ]
  },
  {
   "cell_type": "code",
   "execution_count": 15,
   "id": "b4242075-79d9-4bbd-b760-f1314603ba31",
   "metadata": {},
   "outputs": [
    {
     "data": {
      "text/html": [
       "<div>\n",
       "<style scoped>\n",
       "    .dataframe tbody tr th:only-of-type {\n",
       "        vertical-align: middle;\n",
       "    }\n",
       "\n",
       "    .dataframe tbody tr th {\n",
       "        vertical-align: top;\n",
       "    }\n",
       "\n",
       "    .dataframe thead th {\n",
       "        text-align: right;\n",
       "    }\n",
       "</style>\n",
       "<table border=\"1\" class=\"dataframe\">\n",
       "  <thead>\n",
       "    <tr style=\"text-align: right;\">\n",
       "      <th></th>\n",
       "      <th>nome</th>\n",
       "      <th>banda</th>\n",
       "      <th>lançamento</th>\n",
       "    </tr>\n",
       "  </thead>\n",
       "  <tbody>\n",
       "    <tr>\n",
       "      <th>1</th>\n",
       "      <td>goodvibrations</td>\n",
       "      <td>the beach boys</td>\n",
       "      <td>1966</td>\n",
       "    </tr>\n",
       "    <tr>\n",
       "      <th>2</th>\n",
       "      <td>a day in the life</td>\n",
       "      <td>the beatles</td>\n",
       "      <td>1967</td>\n",
       "    </tr>\n",
       "    <tr>\n",
       "      <th>3</th>\n",
       "      <td>message in a bottle</td>\n",
       "      <td>the police</td>\n",
       "      <td>1979</td>\n",
       "    </tr>\n",
       "    <tr>\n",
       "      <th>0</th>\n",
       "      <td>radioactive</td>\n",
       "      <td>imagine dragons</td>\n",
       "      <td>2012</td>\n",
       "    </tr>\n",
       "  </tbody>\n",
       "</table>\n",
       "</div>"
      ],
      "text/plain": [
       "                  nome            banda  lançamento\n",
       "1       goodvibrations   the beach boys        1966\n",
       "2    a day in the life      the beatles        1967\n",
       "3  message in a bottle       the police        1979\n",
       "0          radioactive  imagine dragons        2012"
      ]
     },
     "execution_count": 15,
     "metadata": {},
     "output_type": "execute_result"
    }
   ],
   "source": [
    "df.sort_values(by=\"lançamento\")"
   ]
  }
 ],
 "metadata": {
  "kernelspec": {
   "display_name": "Python 3 (ipykernel)",
   "language": "python",
   "name": "python3"
  },
  "language_info": {
   "codemirror_mode": {
    "name": "ipython",
    "version": 3
   },
   "file_extension": ".py",
   "mimetype": "text/x-python",
   "name": "python",
   "nbconvert_exporter": "python",
   "pygments_lexer": "ipython3",
   "version": "3.11.7"
  }
 },
 "nbformat": 4,
 "nbformat_minor": 5
}
