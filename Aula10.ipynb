{
 "cells": [
  {
   "cell_type": "code",
   "execution_count": 1,
   "id": "88786b6d-3b81-4c2d-85a9-296f15967840",
   "metadata": {},
   "outputs": [],
   "source": [
    "import pandas as pd\n",
    "import plotly.express as px"
   ]
  },
  {
   "cell_type": "code",
   "execution_count": 2,
   "id": "9ba8d923-f534-4dec-8be3-c2e39ca06229",
   "metadata": {},
   "outputs": [],
   "source": [
    "url = 'https://raw.githubusercontent.com/nazareno/enade-vis/master/data/ies_Brasil.csv'\n",
    "\n",
    "dados_enade = pd.read_csv(url, sep=';')"
   ]
  },
  {
   "cell_type": "code",
   "execution_count": 4,
   "id": "a10cea44-36a0-41a0-af66-7bde8b11f9ba",
   "metadata": {},
   "outputs": [
    {
     "data": {
      "text/html": [
       "<div>\n",
       "<style scoped>\n",
       "    .dataframe tbody tr th:only-of-type {\n",
       "        vertical-align: middle;\n",
       "    }\n",
       "\n",
       "    .dataframe tbody tr th {\n",
       "        vertical-align: top;\n",
       "    }\n",
       "\n",
       "    .dataframe thead th {\n",
       "        text-align: right;\n",
       "    }\n",
       "</style>\n",
       "<table border=\"1\" class=\"dataframe\">\n",
       "  <thead>\n",
       "    <tr style=\"text-align: right;\">\n",
       "      <th></th>\n",
       "      <th>Código Mantenedora</th>\n",
       "      <th>Razão Social</th>\n",
       "      <th>CNPJ</th>\n",
       "      <th>Natureza Jurídica</th>\n",
       "      <th>Código IES</th>\n",
       "      <th>Instituição(IES)</th>\n",
       "      <th>Sigla</th>\n",
       "      <th>Endereço</th>\n",
       "      <th>Município</th>\n",
       "      <th>UF</th>\n",
       "      <th>...</th>\n",
       "      <th>Tipo de Credenciamento</th>\n",
       "      <th>Categoria</th>\n",
       "      <th>Categoria Administrativa</th>\n",
       "      <th>CI</th>\n",
       "      <th>Ano CI</th>\n",
       "      <th>CI-EaD</th>\n",
       "      <th>Ano CI-EaD</th>\n",
       "      <th>IGC</th>\n",
       "      <th>Ano IGC</th>\n",
       "      <th>Situação</th>\n",
       "    </tr>\n",
       "  </thead>\n",
       "  <tbody>\n",
       "    <tr>\n",
       "      <th>0</th>\n",
       "      <td>323</td>\n",
       "      <td>ASSOCIACAO BRASILEIRA DE ENSINO UNIVERSITARIO ...</td>\n",
       "      <td>30.831.606/0001-30</td>\n",
       "      <td>Privada sem fins lucrativos</td>\n",
       "      <td>2565</td>\n",
       "      <td>ABEU - CENTRO UNIVERSITÁRIO (UNIABEU)</td>\n",
       "      <td>UNIABEU</td>\n",
       "      <td>Rua Itaiara - 301 - s/c - CEP: 26113-400 - Centro</td>\n",
       "      <td>Belford Roxo</td>\n",
       "      <td>RJ</td>\n",
       "      <td>...</td>\n",
       "      <td>Presencial - Superior</td>\n",
       "      <td>Privada</td>\n",
       "      <td>Privada sem fins lucrativos</td>\n",
       "      <td>4</td>\n",
       "      <td>2015.0</td>\n",
       "      <td>-</td>\n",
       "      <td>NaN</td>\n",
       "      <td>3</td>\n",
       "      <td>2016.0</td>\n",
       "      <td>Ativa</td>\n",
       "    </tr>\n",
       "    <tr>\n",
       "      <th>1</th>\n",
       "      <td>16500</td>\n",
       "      <td>COMANDO DO EXERCITO</td>\n",
       "      <td>00.394.452/0270-52</td>\n",
       "      <td>Pessoa Jurídica de Direito Público - Federal</td>\n",
       "      <td>21095</td>\n",
       "      <td>Academia Militar das Agulhas Negras (AMAN)</td>\n",
       "      <td>AMAN</td>\n",
       "      <td>AC Academia Militar de Agulhas Negras - 306 - ...</td>\n",
       "      <td>Resende</td>\n",
       "      <td>RJ</td>\n",
       "      <td>...</td>\n",
       "      <td>Presencial - Superior</td>\n",
       "      <td>Pública</td>\n",
       "      <td>Pública Federal</td>\n",
       "      <td>-</td>\n",
       "      <td>NaN</td>\n",
       "      <td>-</td>\n",
       "      <td>NaN</td>\n",
       "      <td>-</td>\n",
       "      <td>NaN</td>\n",
       "      <td>Ativa</td>\n",
       "    </tr>\n",
       "    <tr>\n",
       "      <th>2</th>\n",
       "      <td>2371</td>\n",
       "      <td>INSTITUTO EDUCACIONAL ALMENARA LTDA - EPP</td>\n",
       "      <td>05.598.350/0001-15</td>\n",
       "      <td>Privada com fins lucrativos</td>\n",
       "      <td>3756</td>\n",
       "      <td>ALFA - Faculdade de Almenara</td>\n",
       "      <td>-</td>\n",
       "      <td>Rua Vereador Virgílio Mendes Lima - 847 - s/c ...</td>\n",
       "      <td>Almenara</td>\n",
       "      <td>MG</td>\n",
       "      <td>...</td>\n",
       "      <td>EAD - Superior / Presencial - Superior</td>\n",
       "      <td>Privada</td>\n",
       "      <td>Privada com fins lucrativos</td>\n",
       "      <td>3</td>\n",
       "      <td>2013.0</td>\n",
       "      <td>3</td>\n",
       "      <td>2015.0</td>\n",
       "      <td>2</td>\n",
       "      <td>2016.0</td>\n",
       "      <td>Ativa</td>\n",
       "    </tr>\n",
       "    <tr>\n",
       "      <th>3</th>\n",
       "      <td>2371</td>\n",
       "      <td>INSTITUTO EDUCACIONAL ALMENARA LTDA - EPP</td>\n",
       "      <td>05.598.350/0001-15</td>\n",
       "      <td>Privada com fins lucrativos</td>\n",
       "      <td>18520</td>\n",
       "      <td>ALFA - Faculdade de Araçuai (ALFA-Araçuai)</td>\n",
       "      <td>ALFA-Araçuai</td>\n",
       "      <td>Rua Dom Serafim - 435 - s/c - CEP: 39600-000 -...</td>\n",
       "      <td>Araçuaí</td>\n",
       "      <td>MG</td>\n",
       "      <td>...</td>\n",
       "      <td>Presencial - Superior</td>\n",
       "      <td>Privada</td>\n",
       "      <td>Privada com fins lucrativos</td>\n",
       "      <td>3</td>\n",
       "      <td>2015.0</td>\n",
       "      <td>-</td>\n",
       "      <td>NaN</td>\n",
       "      <td>-</td>\n",
       "      <td>NaN</td>\n",
       "      <td>Ativa</td>\n",
       "    </tr>\n",
       "    <tr>\n",
       "      <th>4</th>\n",
       "      <td>2371</td>\n",
       "      <td>INSTITUTO EDUCACIONAL ALMENARA LTDA - EPP</td>\n",
       "      <td>05.598.350/0001-15</td>\n",
       "      <td>Privada com fins lucrativos</td>\n",
       "      <td>18692</td>\n",
       "      <td>ALFA - Faculdade de Guanhães (ALFA - Gunhães)</td>\n",
       "      <td>ALFA - Gunhães</td>\n",
       "      <td>Rua Wantuil Caldeira - 544 - s/c - CEP: 39740-...</td>\n",
       "      <td>Guanhães</td>\n",
       "      <td>MG</td>\n",
       "      <td>...</td>\n",
       "      <td>Presencial - Superior</td>\n",
       "      <td>Privada</td>\n",
       "      <td>Privada com fins lucrativos</td>\n",
       "      <td>3</td>\n",
       "      <td>2015.0</td>\n",
       "      <td>-</td>\n",
       "      <td>NaN</td>\n",
       "      <td>-</td>\n",
       "      <td>NaN</td>\n",
       "      <td>Ativa</td>\n",
       "    </tr>\n",
       "    <tr>\n",
       "      <th>...</th>\n",
       "      <td>...</td>\n",
       "      <td>...</td>\n",
       "      <td>...</td>\n",
       "      <td>...</td>\n",
       "      <td>...</td>\n",
       "      <td>...</td>\n",
       "      <td>...</td>\n",
       "      <td>...</td>\n",
       "      <td>...</td>\n",
       "      <td>...</td>\n",
       "      <td>...</td>\n",
       "      <td>...</td>\n",
       "      <td>...</td>\n",
       "      <td>...</td>\n",
       "      <td>...</td>\n",
       "      <td>...</td>\n",
       "      <td>...</td>\n",
       "      <td>...</td>\n",
       "      <td>...</td>\n",
       "      <td>...</td>\n",
       "      <td>...</td>\n",
       "    </tr>\n",
       "    <tr>\n",
       "      <th>2945</th>\n",
       "      <td>16298</td>\n",
       "      <td>SOCIEDADE PAULISTA DE ENSINO E PESQUISA S/S LTDA</td>\n",
       "      <td>04.302.037/0001-25</td>\n",
       "      <td>Pessoa Jurídica de Direito Privado - Com fins ...</td>\n",
       "      <td>481</td>\n",
       "      <td>Universidade Universus Veritas Guarulhos (Univ...</td>\n",
       "      <td>Univeritas UNG</td>\n",
       "      <td>Praça Tereza Cristina - 88 - s/c - CEP: 07023-...</td>\n",
       "      <td>Guarulhos</td>\n",
       "      <td>SP</td>\n",
       "      <td>...</td>\n",
       "      <td>EAD - Superior / Presencial - Superior</td>\n",
       "      <td>Privada</td>\n",
       "      <td>Privada sem fins lucrativos</td>\n",
       "      <td>4</td>\n",
       "      <td>2010.0</td>\n",
       "      <td>5</td>\n",
       "      <td>2014.0</td>\n",
       "      <td>3</td>\n",
       "      <td>2016.0</td>\n",
       "      <td>Ativa</td>\n",
       "    </tr>\n",
       "    <tr>\n",
       "      <th>2946</th>\n",
       "      <td>354</td>\n",
       "      <td>FUNDACAO PERCIVAL FARQUHAR</td>\n",
       "      <td>20.611.810/0001-91</td>\n",
       "      <td>Pessoa Jurídica de Direito Privado - Sem fins ...</td>\n",
       "      <td>513</td>\n",
       "      <td>UNIVERSIDADE VALE DO RIO DOCE (UNIVALE)</td>\n",
       "      <td>UNIVALE</td>\n",
       "      <td>Rua Israel Pinheiro - 2000 - Campus Antônio Ro...</td>\n",
       "      <td>Governador Valadares</td>\n",
       "      <td>MG</td>\n",
       "      <td>...</td>\n",
       "      <td>EAD - Superior / Presencial - Superior</td>\n",
       "      <td>Privada</td>\n",
       "      <td>Privada sem fins lucrativos</td>\n",
       "      <td>3</td>\n",
       "      <td>2009.0</td>\n",
       "      <td>-</td>\n",
       "      <td>NaN</td>\n",
       "      <td>3</td>\n",
       "      <td>2016.0</td>\n",
       "      <td>Ativa</td>\n",
       "    </tr>\n",
       "    <tr>\n",
       "      <th>2947</th>\n",
       "      <td>27</td>\n",
       "      <td>FUNDACAO COMUNITARIA TRICORDIANA DE EDUCACAO</td>\n",
       "      <td>25.872.854/0001-99</td>\n",
       "      <td>Privada sem fins lucrativos</td>\n",
       "      <td>27</td>\n",
       "      <td>UNIVERSIDADE VALE DO RIO VERDE (UNINCOR)</td>\n",
       "      <td>UNINCOR</td>\n",
       "      <td>Av. Castelo Branco - 82 - s/c - CEP: 37410-000...</td>\n",
       "      <td>Três Corações</td>\n",
       "      <td>MG</td>\n",
       "      <td>...</td>\n",
       "      <td>EAD - Superior / Presencial - Superior</td>\n",
       "      <td>Privada</td>\n",
       "      <td>Privada sem fins lucrativos</td>\n",
       "      <td>4</td>\n",
       "      <td>2017.0</td>\n",
       "      <td>3</td>\n",
       "      <td>2013.0</td>\n",
       "      <td>3</td>\n",
       "      <td>2016.0</td>\n",
       "      <td>Ativa</td>\n",
       "    </tr>\n",
       "    <tr>\n",
       "      <th>2948</th>\n",
       "      <td>436</td>\n",
       "      <td>SOC EDUC DO ESP SANTO UNIDADE DE V VELHA ENSIN...</td>\n",
       "      <td>27.067.651/0001-55</td>\n",
       "      <td>Privada sem fins lucrativos</td>\n",
       "      <td>664</td>\n",
       "      <td>UNIVERSIDADE VILA VELHA (UVV)</td>\n",
       "      <td>UVV</td>\n",
       "      <td>Av. Comissário José Dantas de Mello - 21 - s/c...</td>\n",
       "      <td>Vila Velha</td>\n",
       "      <td>ES</td>\n",
       "      <td>...</td>\n",
       "      <td>EAD - Superior / Presencial - Superior</td>\n",
       "      <td>Privada</td>\n",
       "      <td>Privada sem fins lucrativos</td>\n",
       "      <td>5</td>\n",
       "      <td>2017.0</td>\n",
       "      <td>5</td>\n",
       "      <td>2015.0</td>\n",
       "      <td>4</td>\n",
       "      <td>2016.0</td>\n",
       "      <td>Ativa</td>\n",
       "    </tr>\n",
       "    <tr>\n",
       "      <th>2949</th>\n",
       "      <td>2414</td>\n",
       "      <td>ESTADO DO MARANHAO - SECRETARIA DE ESTADO DA C...</td>\n",
       "      <td>05.572.043/0001-65</td>\n",
       "      <td>Pessoa Jurídica de Direito Público - Estadual</td>\n",
       "      <td>3835</td>\n",
       "      <td>UNIVERSIDADE VIRTUAL DO ESTADO DO MARANHÃO (UN...</td>\n",
       "      <td>UNIVIMA</td>\n",
       "      <td>Rua Portugal - 221 - s/c - CEP: 65010-480 - Pr...</td>\n",
       "      <td>São Luís</td>\n",
       "      <td>MA</td>\n",
       "      <td>...</td>\n",
       "      <td>Presencial - Superior</td>\n",
       "      <td>Pública</td>\n",
       "      <td>Pública Estadual</td>\n",
       "      <td>-</td>\n",
       "      <td>NaN</td>\n",
       "      <td>-</td>\n",
       "      <td>NaN</td>\n",
       "      <td>-</td>\n",
       "      <td>NaN</td>\n",
       "      <td>Ativa</td>\n",
       "    </tr>\n",
       "  </tbody>\n",
       "</table>\n",
       "<p>2950 rows × 21 columns</p>\n",
       "</div>"
      ],
      "text/plain": [
       "      Código Mantenedora                                       Razão Social  \\\n",
       "0                    323  ASSOCIACAO BRASILEIRA DE ENSINO UNIVERSITARIO ...   \n",
       "1                  16500                                COMANDO DO EXERCITO   \n",
       "2                   2371          INSTITUTO EDUCACIONAL ALMENARA LTDA - EPP   \n",
       "3                   2371          INSTITUTO EDUCACIONAL ALMENARA LTDA - EPP   \n",
       "4                   2371          INSTITUTO EDUCACIONAL ALMENARA LTDA - EPP   \n",
       "...                  ...                                                ...   \n",
       "2945               16298   SOCIEDADE PAULISTA DE ENSINO E PESQUISA S/S LTDA   \n",
       "2946                 354                         FUNDACAO PERCIVAL FARQUHAR   \n",
       "2947                  27       FUNDACAO COMUNITARIA TRICORDIANA DE EDUCACAO   \n",
       "2948                 436  SOC EDUC DO ESP SANTO UNIDADE DE V VELHA ENSIN...   \n",
       "2949                2414  ESTADO DO MARANHAO - SECRETARIA DE ESTADO DA C...   \n",
       "\n",
       "                    CNPJ                                  Natureza Jurídica  \\\n",
       "0     30.831.606/0001-30                        Privada sem fins lucrativos   \n",
       "1     00.394.452/0270-52       Pessoa Jurídica de Direito Público - Federal   \n",
       "2     05.598.350/0001-15                        Privada com fins lucrativos   \n",
       "3     05.598.350/0001-15                        Privada com fins lucrativos   \n",
       "4     05.598.350/0001-15                        Privada com fins lucrativos   \n",
       "...                  ...                                                ...   \n",
       "2945  04.302.037/0001-25  Pessoa Jurídica de Direito Privado - Com fins ...   \n",
       "2946  20.611.810/0001-91  Pessoa Jurídica de Direito Privado - Sem fins ...   \n",
       "2947  25.872.854/0001-99                        Privada sem fins lucrativos   \n",
       "2948  27.067.651/0001-55                        Privada sem fins lucrativos   \n",
       "2949  05.572.043/0001-65      Pessoa Jurídica de Direito Público - Estadual   \n",
       "\n",
       "      Código IES                                   Instituição(IES)  \\\n",
       "0           2565              ABEU - CENTRO UNIVERSITÁRIO (UNIABEU)   \n",
       "1          21095         Academia Militar das Agulhas Negras (AMAN)   \n",
       "2           3756                       ALFA - Faculdade de Almenara   \n",
       "3          18520         ALFA - Faculdade de Araçuai (ALFA-Araçuai)   \n",
       "4          18692      ALFA - Faculdade de Guanhães (ALFA - Gunhães)   \n",
       "...          ...                                                ...   \n",
       "2945         481  Universidade Universus Veritas Guarulhos (Univ...   \n",
       "2946         513            UNIVERSIDADE VALE DO RIO DOCE (UNIVALE)   \n",
       "2947          27           UNIVERSIDADE VALE DO RIO VERDE (UNINCOR)   \n",
       "2948         664                      UNIVERSIDADE VILA VELHA (UVV)   \n",
       "2949        3835  UNIVERSIDADE VIRTUAL DO ESTADO DO MARANHÃO (UN...   \n",
       "\n",
       "               Sigla                                           Endereço  \\\n",
       "0            UNIABEU  Rua Itaiara - 301 - s/c - CEP: 26113-400 - Centro   \n",
       "1               AMAN  AC Academia Militar de Agulhas Negras - 306 - ...   \n",
       "2                  -  Rua Vereador Virgílio Mendes Lima - 847 - s/c ...   \n",
       "3       ALFA-Araçuai  Rua Dom Serafim - 435 - s/c - CEP: 39600-000 -...   \n",
       "4     ALFA - Gunhães  Rua Wantuil Caldeira - 544 - s/c - CEP: 39740-...   \n",
       "...              ...                                                ...   \n",
       "2945  Univeritas UNG  Praça Tereza Cristina - 88 - s/c - CEP: 07023-...   \n",
       "2946         UNIVALE  Rua Israel Pinheiro - 2000 - Campus Antônio Ro...   \n",
       "2947         UNINCOR  Av. Castelo Branco - 82 - s/c - CEP: 37410-000...   \n",
       "2948             UVV  Av. Comissário José Dantas de Mello - 21 - s/c...   \n",
       "2949         UNIVIMA  Rua Portugal - 221 - s/c - CEP: 65010-480 - Pr...   \n",
       "\n",
       "                 Município  UF  ...                  Tipo de Credenciamento  \\\n",
       "0             Belford Roxo  RJ  ...                   Presencial - Superior   \n",
       "1                  Resende  RJ  ...                   Presencial - Superior   \n",
       "2                 Almenara  MG  ...  EAD - Superior / Presencial - Superior   \n",
       "3                  Araçuaí  MG  ...                   Presencial - Superior   \n",
       "4                 Guanhães  MG  ...                   Presencial - Superior   \n",
       "...                    ...  ..  ...                                     ...   \n",
       "2945             Guarulhos  SP  ...  EAD - Superior / Presencial - Superior   \n",
       "2946  Governador Valadares  MG  ...  EAD - Superior / Presencial - Superior   \n",
       "2947         Três Corações  MG  ...  EAD - Superior / Presencial - Superior   \n",
       "2948            Vila Velha  ES  ...  EAD - Superior / Presencial - Superior   \n",
       "2949              São Luís  MA  ...                   Presencial - Superior   \n",
       "\n",
       "     Categoria     Categoria Administrativa CI  Ano CI  CI-EaD Ano CI-EaD  \\\n",
       "0      Privada  Privada sem fins lucrativos  4  2015.0       -        NaN   \n",
       "1      Pública              Pública Federal  -     NaN       -        NaN   \n",
       "2      Privada  Privada com fins lucrativos  3  2013.0       3     2015.0   \n",
       "3      Privada  Privada com fins lucrativos  3  2015.0       -        NaN   \n",
       "4      Privada  Privada com fins lucrativos  3  2015.0       -        NaN   \n",
       "...        ...                          ... ..     ...     ...        ...   \n",
       "2945   Privada  Privada sem fins lucrativos  4  2010.0       5     2014.0   \n",
       "2946   Privada  Privada sem fins lucrativos  3  2009.0       -        NaN   \n",
       "2947   Privada  Privada sem fins lucrativos  4  2017.0       3     2013.0   \n",
       "2948   Privada  Privada sem fins lucrativos  5  2017.0       5     2015.0   \n",
       "2949   Pública             Pública Estadual  -     NaN       -        NaN   \n",
       "\n",
       "      IGC Ano IGC  Situação  \n",
       "0       3  2016.0     Ativa  \n",
       "1       -     NaN     Ativa  \n",
       "2       2  2016.0     Ativa  \n",
       "3       -     NaN     Ativa  \n",
       "4       -     NaN     Ativa  \n",
       "...   ...     ...       ...  \n",
       "2945    3  2016.0     Ativa  \n",
       "2946    3  2016.0     Ativa  \n",
       "2947    3  2016.0     Ativa  \n",
       "2948    4  2016.0     Ativa  \n",
       "2949    -     NaN     Ativa  \n",
       "\n",
       "[2950 rows x 21 columns]"
      ]
     },
     "execution_count": 4,
     "metadata": {},
     "output_type": "execute_result"
    }
   ],
   "source": [
    "df = pd.DataFrame(dados_enade)\n",
    "\n",
    "df"
   ]
  },
  {
   "cell_type": "code",
   "execution_count": 17,
   "id": "cedb1452-b6ae-4866-b537-f8fa9ffdce8f",
   "metadata": {},
   "outputs": [
    {
     "data": {
      "text/html": [
       "<div>\n",
       "<style scoped>\n",
       "    .dataframe tbody tr th:only-of-type {\n",
       "        vertical-align: middle;\n",
       "    }\n",
       "\n",
       "    .dataframe tbody tr th {\n",
       "        vertical-align: top;\n",
       "    }\n",
       "\n",
       "    .dataframe thead th {\n",
       "        text-align: right;\n",
       "    }\n",
       "</style>\n",
       "<table border=\"1\" class=\"dataframe\">\n",
       "  <thead>\n",
       "    <tr style=\"text-align: right;\">\n",
       "      <th></th>\n",
       "      <th>Categoria</th>\n",
       "      <th>Quant</th>\n",
       "    </tr>\n",
       "  </thead>\n",
       "  <tbody>\n",
       "    <tr>\n",
       "      <th>0</th>\n",
       "      <td>Privada</td>\n",
       "      <td>1748</td>\n",
       "    </tr>\n",
       "    <tr>\n",
       "      <th>1</th>\n",
       "      <td>Pública</td>\n",
       "      <td>209</td>\n",
       "    </tr>\n",
       "  </tbody>\n",
       "</table>\n",
       "</div>"
      ],
      "text/plain": [
       "  Categoria  Quant\n",
       "0   Privada   1748\n",
       "1   Pública    209"
      ]
     },
     "execution_count": 17,
     "metadata": {},
     "output_type": "execute_result"
    }
   ],
   "source": [
    "df_instituicoes = df[[\"Razão Social\", \"Categoria\", \"Ano IGC\"]]\n",
    "df_instituicoes = df_instituicoes.sort_values(by=\"Razão Social\")\n",
    "df_instituicoes = df_instituicoes.groupby(\"Categoria\")[\"Razão Social\"].nunique().reset_index(name=\"Quant\")\n",
    "\n",
    "df_instituicoes"
   ]
  },
  {
   "cell_type": "code",
   "execution_count": 18,
   "id": "cb3f8842-be18-47eb-987e-eda32ab11ae7",
   "metadata": {},
   "outputs": [
    {
     "data": {
      "application/vnd.plotly.v1+json": {
       "config": {
        "plotlyServerURL": "https://plot.ly"
       },
       "data": [
        {
         "domain": {
          "x": [
           0,
           1
          ],
          "y": [
           0,
           1
          ]
         },
         "hovertemplate": "Categoria=%{label}<br>Quant=%{value}<extra></extra>",
         "labels": [
          "Privada",
          "Pública"
         ],
         "legendgroup": "",
         "name": "",
         "showlegend": true,
         "type": "pie",
         "values": [
          1748,
          209
         ]
        }
       ],
       "layout": {
        "autosize": true,
        "legend": {
         "tracegroupgap": 0
        },
        "template": {
         "data": {
          "bar": [
           {
            "error_x": {
             "color": "#2a3f5f"
            },
            "error_y": {
             "color": "#2a3f5f"
            },
            "marker": {
             "line": {
              "color": "#E5ECF6",
              "width": 0.5
             },
             "pattern": {
              "fillmode": "overlay",
              "size": 10,
              "solidity": 0.2
             }
            },
            "type": "bar"
           }
          ],
          "barpolar": [
           {
            "marker": {
             "line": {
              "color": "#E5ECF6",
              "width": 0.5
             },
             "pattern": {
              "fillmode": "overlay",
              "size": 10,
              "solidity": 0.2
             }
            },
            "type": "barpolar"
           }
          ],
          "carpet": [
           {
            "aaxis": {
             "endlinecolor": "#2a3f5f",
             "gridcolor": "white",
             "linecolor": "white",
             "minorgridcolor": "white",
             "startlinecolor": "#2a3f5f"
            },
            "baxis": {
             "endlinecolor": "#2a3f5f",
             "gridcolor": "white",
             "linecolor": "white",
             "minorgridcolor": "white",
             "startlinecolor": "#2a3f5f"
            },
            "type": "carpet"
           }
          ],
          "choropleth": [
           {
            "colorbar": {
             "outlinewidth": 0,
             "ticks": ""
            },
            "type": "choropleth"
           }
          ],
          "contour": [
           {
            "colorbar": {
             "outlinewidth": 0,
             "ticks": ""
            },
            "colorscale": [
             [
              0,
              "#0d0887"
             ],
             [
              0.1111111111111111,
              "#46039f"
             ],
             [
              0.2222222222222222,
              "#7201a8"
             ],
             [
              0.3333333333333333,
              "#9c179e"
             ],
             [
              0.4444444444444444,
              "#bd3786"
             ],
             [
              0.5555555555555556,
              "#d8576b"
             ],
             [
              0.6666666666666666,
              "#ed7953"
             ],
             [
              0.7777777777777778,
              "#fb9f3a"
             ],
             [
              0.8888888888888888,
              "#fdca26"
             ],
             [
              1,
              "#f0f921"
             ]
            ],
            "type": "contour"
           }
          ],
          "contourcarpet": [
           {
            "colorbar": {
             "outlinewidth": 0,
             "ticks": ""
            },
            "type": "contourcarpet"
           }
          ],
          "heatmap": [
           {
            "colorbar": {
             "outlinewidth": 0,
             "ticks": ""
            },
            "colorscale": [
             [
              0,
              "#0d0887"
             ],
             [
              0.1111111111111111,
              "#46039f"
             ],
             [
              0.2222222222222222,
              "#7201a8"
             ],
             [
              0.3333333333333333,
              "#9c179e"
             ],
             [
              0.4444444444444444,
              "#bd3786"
             ],
             [
              0.5555555555555556,
              "#d8576b"
             ],
             [
              0.6666666666666666,
              "#ed7953"
             ],
             [
              0.7777777777777778,
              "#fb9f3a"
             ],
             [
              0.8888888888888888,
              "#fdca26"
             ],
             [
              1,
              "#f0f921"
             ]
            ],
            "type": "heatmap"
           }
          ],
          "heatmapgl": [
           {
            "colorbar": {
             "outlinewidth": 0,
             "ticks": ""
            },
            "colorscale": [
             [
              0,
              "#0d0887"
             ],
             [
              0.1111111111111111,
              "#46039f"
             ],
             [
              0.2222222222222222,
              "#7201a8"
             ],
             [
              0.3333333333333333,
              "#9c179e"
             ],
             [
              0.4444444444444444,
              "#bd3786"
             ],
             [
              0.5555555555555556,
              "#d8576b"
             ],
             [
              0.6666666666666666,
              "#ed7953"
             ],
             [
              0.7777777777777778,
              "#fb9f3a"
             ],
             [
              0.8888888888888888,
              "#fdca26"
             ],
             [
              1,
              "#f0f921"
             ]
            ],
            "type": "heatmapgl"
           }
          ],
          "histogram": [
           {
            "marker": {
             "pattern": {
              "fillmode": "overlay",
              "size": 10,
              "solidity": 0.2
             }
            },
            "type": "histogram"
           }
          ],
          "histogram2d": [
           {
            "colorbar": {
             "outlinewidth": 0,
             "ticks": ""
            },
            "colorscale": [
             [
              0,
              "#0d0887"
             ],
             [
              0.1111111111111111,
              "#46039f"
             ],
             [
              0.2222222222222222,
              "#7201a8"
             ],
             [
              0.3333333333333333,
              "#9c179e"
             ],
             [
              0.4444444444444444,
              "#bd3786"
             ],
             [
              0.5555555555555556,
              "#d8576b"
             ],
             [
              0.6666666666666666,
              "#ed7953"
             ],
             [
              0.7777777777777778,
              "#fb9f3a"
             ],
             [
              0.8888888888888888,
              "#fdca26"
             ],
             [
              1,
              "#f0f921"
             ]
            ],
            "type": "histogram2d"
           }
          ],
          "histogram2dcontour": [
           {
            "colorbar": {
             "outlinewidth": 0,
             "ticks": ""
            },
            "colorscale": [
             [
              0,
              "#0d0887"
             ],
             [
              0.1111111111111111,
              "#46039f"
             ],
             [
              0.2222222222222222,
              "#7201a8"
             ],
             [
              0.3333333333333333,
              "#9c179e"
             ],
             [
              0.4444444444444444,
              "#bd3786"
             ],
             [
              0.5555555555555556,
              "#d8576b"
             ],
             [
              0.6666666666666666,
              "#ed7953"
             ],
             [
              0.7777777777777778,
              "#fb9f3a"
             ],
             [
              0.8888888888888888,
              "#fdca26"
             ],
             [
              1,
              "#f0f921"
             ]
            ],
            "type": "histogram2dcontour"
           }
          ],
          "mesh3d": [
           {
            "colorbar": {
             "outlinewidth": 0,
             "ticks": ""
            },
            "type": "mesh3d"
           }
          ],
          "parcoords": [
           {
            "line": {
             "colorbar": {
              "outlinewidth": 0,
              "ticks": ""
             }
            },
            "type": "parcoords"
           }
          ],
          "pie": [
           {
            "automargin": true,
            "type": "pie"
           }
          ],
          "scatter": [
           {
            "fillpattern": {
             "fillmode": "overlay",
             "size": 10,
             "solidity": 0.2
            },
            "type": "scatter"
           }
          ],
          "scatter3d": [
           {
            "line": {
             "colorbar": {
              "outlinewidth": 0,
              "ticks": ""
             }
            },
            "marker": {
             "colorbar": {
              "outlinewidth": 0,
              "ticks": ""
             }
            },
            "type": "scatter3d"
           }
          ],
          "scattercarpet": [
           {
            "marker": {
             "colorbar": {
              "outlinewidth": 0,
              "ticks": ""
             }
            },
            "type": "scattercarpet"
           }
          ],
          "scattergeo": [
           {
            "marker": {
             "colorbar": {
              "outlinewidth": 0,
              "ticks": ""
             }
            },
            "type": "scattergeo"
           }
          ],
          "scattergl": [
           {
            "marker": {
             "colorbar": {
              "outlinewidth": 0,
              "ticks": ""
             }
            },
            "type": "scattergl"
           }
          ],
          "scattermapbox": [
           {
            "marker": {
             "colorbar": {
              "outlinewidth": 0,
              "ticks": ""
             }
            },
            "type": "scattermapbox"
           }
          ],
          "scatterpolar": [
           {
            "marker": {
             "colorbar": {
              "outlinewidth": 0,
              "ticks": ""
             }
            },
            "type": "scatterpolar"
           }
          ],
          "scatterpolargl": [
           {
            "marker": {
             "colorbar": {
              "outlinewidth": 0,
              "ticks": ""
             }
            },
            "type": "scatterpolargl"
           }
          ],
          "scatterternary": [
           {
            "marker": {
             "colorbar": {
              "outlinewidth": 0,
              "ticks": ""
             }
            },
            "type": "scatterternary"
           }
          ],
          "surface": [
           {
            "colorbar": {
             "outlinewidth": 0,
             "ticks": ""
            },
            "colorscale": [
             [
              0,
              "#0d0887"
             ],
             [
              0.1111111111111111,
              "#46039f"
             ],
             [
              0.2222222222222222,
              "#7201a8"
             ],
             [
              0.3333333333333333,
              "#9c179e"
             ],
             [
              0.4444444444444444,
              "#bd3786"
             ],
             [
              0.5555555555555556,
              "#d8576b"
             ],
             [
              0.6666666666666666,
              "#ed7953"
             ],
             [
              0.7777777777777778,
              "#fb9f3a"
             ],
             [
              0.8888888888888888,
              "#fdca26"
             ],
             [
              1,
              "#f0f921"
             ]
            ],
            "type": "surface"
           }
          ],
          "table": [
           {
            "cells": {
             "fill": {
              "color": "#EBF0F8"
             },
             "line": {
              "color": "white"
             }
            },
            "header": {
             "fill": {
              "color": "#C8D4E3"
             },
             "line": {
              "color": "white"
             }
            },
            "type": "table"
           }
          ]
         },
         "layout": {
          "annotationdefaults": {
           "arrowcolor": "#2a3f5f",
           "arrowhead": 0,
           "arrowwidth": 1
          },
          "autotypenumbers": "strict",
          "coloraxis": {
           "colorbar": {
            "outlinewidth": 0,
            "ticks": ""
           }
          },
          "colorscale": {
           "diverging": [
            [
             0,
             "#8e0152"
            ],
            [
             0.1,
             "#c51b7d"
            ],
            [
             0.2,
             "#de77ae"
            ],
            [
             0.3,
             "#f1b6da"
            ],
            [
             0.4,
             "#fde0ef"
            ],
            [
             0.5,
             "#f7f7f7"
            ],
            [
             0.6,
             "#e6f5d0"
            ],
            [
             0.7,
             "#b8e186"
            ],
            [
             0.8,
             "#7fbc41"
            ],
            [
             0.9,
             "#4d9221"
            ],
            [
             1,
             "#276419"
            ]
           ],
           "sequential": [
            [
             0,
             "#0d0887"
            ],
            [
             0.1111111111111111,
             "#46039f"
            ],
            [
             0.2222222222222222,
             "#7201a8"
            ],
            [
             0.3333333333333333,
             "#9c179e"
            ],
            [
             0.4444444444444444,
             "#bd3786"
            ],
            [
             0.5555555555555556,
             "#d8576b"
            ],
            [
             0.6666666666666666,
             "#ed7953"
            ],
            [
             0.7777777777777778,
             "#fb9f3a"
            ],
            [
             0.8888888888888888,
             "#fdca26"
            ],
            [
             1,
             "#f0f921"
            ]
           ],
           "sequentialminus": [
            [
             0,
             "#0d0887"
            ],
            [
             0.1111111111111111,
             "#46039f"
            ],
            [
             0.2222222222222222,
             "#7201a8"
            ],
            [
             0.3333333333333333,
             "#9c179e"
            ],
            [
             0.4444444444444444,
             "#bd3786"
            ],
            [
             0.5555555555555556,
             "#d8576b"
            ],
            [
             0.6666666666666666,
             "#ed7953"
            ],
            [
             0.7777777777777778,
             "#fb9f3a"
            ],
            [
             0.8888888888888888,
             "#fdca26"
            ],
            [
             1,
             "#f0f921"
            ]
           ]
          },
          "colorway": [
           "#636efa",
           "#EF553B",
           "#00cc96",
           "#ab63fa",
           "#FFA15A",
           "#19d3f3",
           "#FF6692",
           "#B6E880",
           "#FF97FF",
           "#FECB52"
          ],
          "font": {
           "color": "#2a3f5f"
          },
          "geo": {
           "bgcolor": "white",
           "lakecolor": "white",
           "landcolor": "#E5ECF6",
           "showlakes": true,
           "showland": true,
           "subunitcolor": "white"
          },
          "hoverlabel": {
           "align": "left"
          },
          "hovermode": "closest",
          "mapbox": {
           "style": "light"
          },
          "paper_bgcolor": "white",
          "plot_bgcolor": "#E5ECF6",
          "polar": {
           "angularaxis": {
            "gridcolor": "white",
            "linecolor": "white",
            "ticks": ""
           },
           "bgcolor": "#E5ECF6",
           "radialaxis": {
            "gridcolor": "white",
            "linecolor": "white",
            "ticks": ""
           }
          },
          "scene": {
           "xaxis": {
            "backgroundcolor": "#E5ECF6",
            "gridcolor": "white",
            "gridwidth": 2,
            "linecolor": "white",
            "showbackground": true,
            "ticks": "",
            "zerolinecolor": "white"
           },
           "yaxis": {
            "backgroundcolor": "#E5ECF6",
            "gridcolor": "white",
            "gridwidth": 2,
            "linecolor": "white",
            "showbackground": true,
            "ticks": "",
            "zerolinecolor": "white"
           },
           "zaxis": {
            "backgroundcolor": "#E5ECF6",
            "gridcolor": "white",
            "gridwidth": 2,
            "linecolor": "white",
            "showbackground": true,
            "ticks": "",
            "zerolinecolor": "white"
           }
          },
          "shapedefaults": {
           "line": {
            "color": "#2a3f5f"
           }
          },
          "ternary": {
           "aaxis": {
            "gridcolor": "white",
            "linecolor": "white",
            "ticks": ""
           },
           "baxis": {
            "gridcolor": "white",
            "linecolor": "white",
            "ticks": ""
           },
           "bgcolor": "#E5ECF6",
           "caxis": {
            "gridcolor": "white",
            "linecolor": "white",
            "ticks": ""
           }
          },
          "title": {
           "x": 0.05
          },
          "xaxis": {
           "automargin": true,
           "gridcolor": "white",
           "linecolor": "white",
           "ticks": "",
           "title": {
            "standoff": 15
           },
           "zerolinecolor": "white",
           "zerolinewidth": 2
          },
          "yaxis": {
           "automargin": true,
           "gridcolor": "white",
           "linecolor": "white",
           "ticks": "",
           "title": {
            "standoff": 15
           },
           "zerolinecolor": "white",
           "zerolinewidth": 2
          }
         }
        },
        "title": {
         "text": "Instituições no Brasil por Categoria"
        }
       }
      },
      "image/png": "[encoded data removed]",
      "text/html": [
       "<div>                            <div id=\"c7622352-b87b-4af2-9ebc-76690a1ce1fd\" class=\"plotly-graph-div\" style=\"height:525px; width:100%;\"></div>            <script type=\"text/javascript\">                require([\"plotly\"], function(Plotly) {                    window.PLOTLYENV=window.PLOTLYENV || {};                                    if (document.getElementById(\"c7622352-b87b-4af2-9ebc-76690a1ce1fd\")) {                    Plotly.newPlot(                        \"c7622352-b87b-4af2-9ebc-76690a1ce1fd\",                        [{\"domain\":{\"x\":[0.0,1.0],\"y\":[0.0,1.0]},\"hovertemplate\":\"Categoria=%{label}<br>Quant=%{value}<extra></extra>\",\"labels\":[\"Privada\",\"P\\u00fablica\"],\"legendgroup\":\"\",\"name\":\"\",\"showlegend\":true,\"values\":[1748,209],\"type\":\"pie\"}],                        {\"template\":{\"data\":{\"histogram2dcontour\":[{\"type\":\"histogram2dcontour\",\"colorbar\":{\"outlinewidth\":0,\"ticks\":\"\"},\"colorscale\":[[0.0,\"#0d0887\"],[0.1111111111111111,\"#46039f\"],[0.2222222222222222,\"#7201a8\"],[0.3333333333333333,\"#9c179e\"],[0.4444444444444444,\"#bd3786\"],[0.5555555555555556,\"#d8576b\"],[0.6666666666666666,\"#ed7953\"],[0.7777777777777778,\"#fb9f3a\"],[0.8888888888888888,\"#fdca26\"],[1.0,\"#f0f921\"]]}],\"choropleth\":[{\"type\":\"choropleth\",\"colorbar\":{\"outlinewidth\":0,\"ticks\":\"\"}}],\"histogram2d\":[{\"type\":\"histogram2d\",\"colorbar\":{\"outlinewidth\":0,\"ticks\":\"\"},\"colorscale\":[[0.0,\"#0d0887\"],[0.1111111111111111,\"#46039f\"],[0.2222222222222222,\"#7201a8\"],[0.3333333333333333,\"#9c179e\"],[0.4444444444444444,\"#bd3786\"],[0.5555555555555556,\"#d8576b\"],[0.6666666666666666,\"#ed7953\"],[0.7777777777777778,\"#fb9f3a\"],[0.8888888888888888,\"#fdca26\"],[1.0,\"#f0f921\"]]}],\"heatmap\":[{\"type\":\"heatmap\",\"colorbar\":{\"outlinewidth\":0,\"ticks\":\"\"},\"colorscale\":[[0.0,\"#0d0887\"],[0.1111111111111111,\"#46039f\"],[0.2222222222222222,\"#7201a8\"],[0.3333333333333333,\"#9c179e\"],[0.4444444444444444,\"#bd3786\"],[0.5555555555555556,\"#d8576b\"],[0.6666666666666666,\"#ed7953\"],[0.7777777777777778,\"#fb9f3a\"],[0.8888888888888888,\"#fdca26\"],[1.0,\"#f0f921\"]]}],\"heatmapgl\":[{\"type\":\"heatmapgl\",\"colorbar\":{\"outlinewidth\":0,\"ticks\":\"\"},\"colorscale\":[[0.0,\"#0d0887\"],[0.1111111111111111,\"#46039f\"],[0.2222222222222222,\"#7201a8\"],[0.3333333333333333,\"#9c179e\"],[0.4444444444444444,\"#bd3786\"],[0.5555555555555556,\"#d8576b\"],[0.6666666666666666,\"#ed7953\"],[0.7777777777777778,\"#fb9f3a\"],[0.8888888888888888,\"#fdca26\"],[1.0,\"#f0f921\"]]}],\"contourcarpet\":[{\"type\":\"contourcarpet\",\"colorbar\":{\"outlinewidth\":0,\"ticks\":\"\"}}],\"contour\":[{\"type\":\"contour\",\"colorbar\":{\"outlinewidth\":0,\"ticks\":\"\"},\"colorscale\":[[0.0,\"#0d0887\"],[0.1111111111111111,\"#46039f\"],[0.2222222222222222,\"#7201a8\"],[0.3333333333333333,\"#9c179e\"],[0.4444444444444444,\"#bd3786\"],[0.5555555555555556,\"#d8576b\"],[0.6666666666666666,\"#ed7953\"],[0.7777777777777778,\"#fb9f3a\"],[0.8888888888888888,\"#fdca26\"],[1.0,\"#f0f921\"]]}],\"surface\":[{\"type\":\"surface\",\"colorbar\":{\"outlinewidth\":0,\"ticks\":\"\"},\"colorscale\":[[0.0,\"#0d0887\"],[0.1111111111111111,\"#46039f\"],[0.2222222222222222,\"#7201a8\"],[0.3333333333333333,\"#9c179e\"],[0.4444444444444444,\"#bd3786\"],[0.5555555555555556,\"#d8576b\"],[0.6666666666666666,\"#ed7953\"],[0.7777777777777778,\"#fb9f3a\"],[0.8888888888888888,\"#fdca26\"],[1.0,\"#f0f921\"]]}],\"mesh3d\":[{\"type\":\"mesh3d\",\"colorbar\":{\"outlinewidth\":0,\"ticks\":\"\"}}],\"scatter\":[{\"fillpattern\":{\"fillmode\":\"overlay\",\"size\":10,\"solidity\":0.2},\"type\":\"scatter\"}],\"parcoords\":[{\"type\":\"parcoords\",\"line\":{\"colorbar\":{\"outlinewidth\":0,\"ticks\":\"\"}}}],\"scatterpolargl\":[{\"type\":\"scatterpolargl\",\"marker\":{\"colorbar\":{\"outlinewidth\":0,\"ticks\":\"\"}}}],\"bar\":[{\"error_x\":{\"color\":\"#2a3f5f\"},\"error_y\":{\"color\":\"#2a3f5f\"},\"marker\":{\"line\":{\"color\":\"#E5ECF6\",\"width\":0.5},\"pattern\":{\"fillmode\":\"overlay\",\"size\":10,\"solidity\":0.2}},\"type\":\"bar\"}],\"scattergeo\":[{\"type\":\"scattergeo\",\"marker\":{\"colorbar\":{\"outlinewidth\":0,\"ticks\":\"\"}}}],\"scatterpolar\":[{\"type\":\"scatterpolar\",\"marker\":{\"colorbar\":{\"outlinewidth\":0,\"ticks\":\"\"}}}],\"histogram\":[{\"marker\":{\"pattern\":{\"fillmode\":\"overlay\",\"size\":10,\"solidity\":0.2}},\"type\":\"histogram\"}],\"scattergl\":[{\"type\":\"scattergl\",\"marker\":{\"colorbar\":{\"outlinewidth\":0,\"ticks\":\"\"}}}],\"scatter3d\":[{\"type\":\"scatter3d\",\"line\":{\"colorbar\":{\"outlinewidth\":0,\"ticks\":\"\"}},\"marker\":{\"colorbar\":{\"outlinewidth\":0,\"ticks\":\"\"}}}],\"scattermapbox\":[{\"type\":\"scattermapbox\",\"marker\":{\"colorbar\":{\"outlinewidth\":0,\"ticks\":\"\"}}}],\"scatterternary\":[{\"type\":\"scatterternary\",\"marker\":{\"colorbar\":{\"outlinewidth\":0,\"ticks\":\"\"}}}],\"scattercarpet\":[{\"type\":\"scattercarpet\",\"marker\":{\"colorbar\":{\"outlinewidth\":0,\"ticks\":\"\"}}}],\"carpet\":[{\"aaxis\":{\"endlinecolor\":\"#2a3f5f\",\"gridcolor\":\"white\",\"linecolor\":\"white\",\"minorgridcolor\":\"white\",\"startlinecolor\":\"#2a3f5f\"},\"baxis\":{\"endlinecolor\":\"#2a3f5f\",\"gridcolor\":\"white\",\"linecolor\":\"white\",\"minorgridcolor\":\"white\",\"startlinecolor\":\"#2a3f5f\"},\"type\":\"carpet\"}],\"table\":[{\"cells\":{\"fill\":{\"color\":\"#EBF0F8\"},\"line\":{\"color\":\"white\"}},\"header\":{\"fill\":{\"color\":\"#C8D4E3\"},\"line\":{\"color\":\"white\"}},\"type\":\"table\"}],\"barpolar\":[{\"marker\":{\"line\":{\"color\":\"#E5ECF6\",\"width\":0.5},\"pattern\":{\"fillmode\":\"overlay\",\"size\":10,\"solidity\":0.2}},\"type\":\"barpolar\"}],\"pie\":[{\"automargin\":true,\"type\":\"pie\"}]},\"layout\":{\"autotypenumbers\":\"strict\",\"colorway\":[\"#636efa\",\"#EF553B\",\"#00cc96\",\"#ab63fa\",\"#FFA15A\",\"#19d3f3\",\"#FF6692\",\"#B6E880\",\"#FF97FF\",\"#FECB52\"],\"font\":{\"color\":\"#2a3f5f\"},\"hovermode\":\"closest\",\"hoverlabel\":{\"align\":\"left\"},\"paper_bgcolor\":\"white\",\"plot_bgcolor\":\"#E5ECF6\",\"polar\":{\"bgcolor\":\"#E5ECF6\",\"angularaxis\":{\"gridcolor\":\"white\",\"linecolor\":\"white\",\"ticks\":\"\"},\"radialaxis\":{\"gridcolor\":\"white\",\"linecolor\":\"white\",\"ticks\":\"\"}},\"ternary\":{\"bgcolor\":\"#E5ECF6\",\"aaxis\":{\"gridcolor\":\"white\",\"linecolor\":\"white\",\"ticks\":\"\"},\"baxis\":{\"gridcolor\":\"white\",\"linecolor\":\"white\",\"ticks\":\"\"},\"caxis\":{\"gridcolor\":\"white\",\"linecolor\":\"white\",\"ticks\":\"\"}},\"coloraxis\":{\"colorbar\":{\"outlinewidth\":0,\"ticks\":\"\"}},\"colorscale\":{\"sequential\":[[0.0,\"#0d0887\"],[0.1111111111111111,\"#46039f\"],[0.2222222222222222,\"#7201a8\"],[0.3333333333333333,\"#9c179e\"],[0.4444444444444444,\"#bd3786\"],[0.5555555555555556,\"#d8576b\"],[0.6666666666666666,\"#ed7953\"],[0.7777777777777778,\"#fb9f3a\"],[0.8888888888888888,\"#fdca26\"],[1.0,\"#f0f921\"]],\"sequentialminus\":[[0.0,\"#0d0887\"],[0.1111111111111111,\"#46039f\"],[0.2222222222222222,\"#7201a8\"],[0.3333333333333333,\"#9c179e\"],[0.4444444444444444,\"#bd3786\"],[0.5555555555555556,\"#d8576b\"],[0.6666666666666666,\"#ed7953\"],[0.7777777777777778,\"#fb9f3a\"],[0.8888888888888888,\"#fdca26\"],[1.0,\"#f0f921\"]],\"diverging\":[[0,\"#8e0152\"],[0.1,\"#c51b7d\"],[0.2,\"#de77ae\"],[0.3,\"#f1b6da\"],[0.4,\"#fde0ef\"],[0.5,\"#f7f7f7\"],[0.6,\"#e6f5d0\"],[0.7,\"#b8e186\"],[0.8,\"#7fbc41\"],[0.9,\"#4d9221\"],[1,\"#276419\"]]},\"xaxis\":{\"gridcolor\":\"white\",\"linecolor\":\"white\",\"ticks\":\"\",\"title\":{\"standoff\":15},\"zerolinecolor\":\"white\",\"automargin\":true,\"zerolinewidth\":2},\"yaxis\":{\"gridcolor\":\"white\",\"linecolor\":\"white\",\"ticks\":\"\",\"title\":{\"standoff\":15},\"zerolinecolor\":\"white\",\"automargin\":true,\"zerolinewidth\":2},\"scene\":{\"xaxis\":{\"backgroundcolor\":\"#E5ECF6\",\"gridcolor\":\"white\",\"linecolor\":\"white\",\"showbackground\":true,\"ticks\":\"\",\"zerolinecolor\":\"white\",\"gridwidth\":2},\"yaxis\":{\"backgroundcolor\":\"#E5ECF6\",\"gridcolor\":\"white\",\"linecolor\":\"white\",\"showbackground\":true,\"ticks\":\"\",\"zerolinecolor\":\"white\",\"gridwidth\":2},\"zaxis\":{\"backgroundcolor\":\"#E5ECF6\",\"gridcolor\":\"white\",\"linecolor\":\"white\",\"showbackground\":true,\"ticks\":\"\",\"zerolinecolor\":\"white\",\"gridwidth\":2}},\"shapedefaults\":{\"line\":{\"color\":\"#2a3f5f\"}},\"annotationdefaults\":{\"arrowcolor\":\"#2a3f5f\",\"arrowhead\":0,\"arrowwidth\":1},\"geo\":{\"bgcolor\":\"white\",\"landcolor\":\"#E5ECF6\",\"subunitcolor\":\"white\",\"showland\":true,\"showlakes\":true,\"lakecolor\":\"white\"},\"title\":{\"x\":0.05},\"mapbox\":{\"style\":\"light\"}}},\"legend\":{\"tracegroupgap\":0},\"title\":{\"text\":\"Institui\\u00e7\\u00f5es no Brasil por Categoria\"}},                        {\"responsive\": true}                    ).then(function(){\n",
       "                            \n",
       "var gd = document.getElementById('c7622352-b87b-4af2-9ebc-76690a1ce1fd');\n",
       "var x = new MutationObserver(function (mutations, observer) {{\n",
       "        var display = window.getComputedStyle(gd).display;\n",
       "        if (!display || display === 'none') {{\n",
       "            console.log([gd, 'removed!']);\n",
       "            Plotly.purge(gd);\n",
       "            observer.disconnect();\n",
       "        }}\n",
       "}});\n",
       "\n",
       "// Listen for the removal of the full notebook cells\n",
       "var notebookContainer = gd.closest('#notebook-container');\n",
       "if (notebookContainer) {{\n",
       "    x.observe(notebookContainer, {childList: true});\n",
       "}}\n",
       "\n",
       "// Listen for the clearing of the current output cell\n",
       "var outputEl = gd.closest('.output');\n",
       "if (outputEl) {{\n",
       "    x.observe(outputEl, {childList: true});\n",
       "}}\n",
       "\n",
       "                        })                };                });            </script>        </div>"
      ]
     },
     "metadata": {},
     "output_type": "display_data"
    }
   ],
   "source": [
    "figPie = px.pie(\n",
    "    df_instituicoes,\n",
    "    names = \"Categoria\",\n",
    "    values = \"Quant\",\n",
    "    title= \"Instituições no Brasil por Categoria\"\n",
    ")\n",
    "\n",
    "figPie"
   ]
  }
 ],
 "metadata": {
  "kernelspec": {
   "display_name": "Python 3 (ipykernel)",
   "language": "python",
   "name": "python3"
  },
  "language_info": {
   "codemirror_mode": {
    "name": "ipython",
    "version": 3
   },
   "file_extension": ".py",
   "mimetype": "text/x-python",
   "name": "python",
   "nbconvert_exporter": "python",
   "pygments_lexer": "ipython3",
   "version": "3.11.7"
  }
 },
 "nbformat": 4,
 "nbformat_minor": 5
}
